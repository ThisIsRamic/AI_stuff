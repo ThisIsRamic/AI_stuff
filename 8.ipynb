{
 "cells": [
  {
   "cell_type": "code",
   "execution_count": 5,
   "metadata": {},
   "outputs": [],
   "source": [
    "from typing import Callable\n",
    "from typing import List\n",
    "import numpy as np\n",
    "from numpy import ndarray\n",
    "import matplotlib.pyplot as plt"
   ]
  },
  {
   "cell_type": "code",
   "execution_count": 6,
   "metadata": {},
   "outputs": [],
   "source": [
    "def deriv(func:Callable[[ndarray],ndarray],input_:ndarray,delta:float = 0.001)->ndarray:\n",
    "    return (func(input_+delta)-func(input_ - delta))/(2*delta)"
   ]
  },
  {
   "cell_type": "code",
   "execution_count": 10,
   "metadata": {},
   "outputs": [],
   "source": [
    "Array_func = Callable[[ndarray],ndarray]\n",
    "Chain = List[Array_func]"
   ]
  },
  {
   "cell_type": "code",
   "execution_count": 12,
   "metadata": {},
   "outputs": [],
   "source": [
    "def chain_legnth_2(chain:Chain, a:ndarray)->ndarray:\n",
    "    assert len(chain)==2,\"wtf\"\n",
    "    f1=chain[0]\n",
    "    f2=chain[1]\n",
    "    return f2(f1(a))"
   ]
  },
  {
   "cell_type": "code",
   "execution_count": 14,
   "metadata": {},
   "outputs": [],
   "source": [
    "def sigmoid(x:ndarray)->ndarray: # 시그모이드 함수\n",
    "    z = 1/(1+np.exp(-x))\n",
    "    return z\n",
    "\n",
    "def Square(x:ndarray) -> ndarray:\n",
    "    return np.power(x,2)"
   ]
  },
  {
   "cell_type": "code",
   "execution_count": 15,
   "metadata": {},
   "outputs": [],
   "source": [
    "def chain_deriv_2(chain:Chain, input_range:ndarray)-> ndarray:\n",
    "    assert len(chain)==2,\"lol\"\n",
    "    assert input_range.ndim == 1,\"lmao\"\n",
    "    f1 = chain[0]\n",
    "    f2 = chain[1]\n",
    "\n",
    "    df1dx=deriv(f1,input_range)\n",
    "    df2du = deriv(f2,f1(input_range))\n",
    "    return df2du*df1dx"
   ]
  },
  {
   "cell_type": "code",
   "execution_count": 20,
   "metadata": {},
   "outputs": [],
   "source": [
    "a=np.arange(-3,3,0.01)\n",
    "plt.plot = chain_deriv_2([sigmoid,Square],a)\n",
    "plt.show()"
   ]
  }
 ],
 "metadata": {
  "kernelspec": {
   "display_name": "Python 3",
   "language": "python",
   "name": "python3"
  },
  "language_info": {
   "codemirror_mode": {
    "name": "ipython",
    "version": 3
   },
   "file_extension": ".py",
   "mimetype": "text/x-python",
   "name": "python",
   "nbconvert_exporter": "python",
   "pygments_lexer": "ipython3",
   "version": "3.9.13"
  },
  "orig_nbformat": 4,
  "vscode": {
   "interpreter": {
    "hash": "0cc4387dc935fb38f708a51dcd4f921fe5271bcbeaf21c9bc5e45292651d63fd"
   }
  }
 },
 "nbformat": 4,
 "nbformat_minor": 2
}
